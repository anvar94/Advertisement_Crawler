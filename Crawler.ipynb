{
 "cells": [
  {
   "cell_type": "code",
   "execution_count": 26,
   "metadata": {},
   "outputs": [
    {
     "name": "stderr",
     "output_type": "stream",
     "text": [
      "\n",
      "\n",
      "====== WebDriver manager ======\n",
      "Current google-chrome version is 95.0.4638\n",
      "Get LATEST driver version for 95.0.4638\n",
      "Driver [C:\\Users\\user\\.wdm\\drivers\\chromedriver\\win32\\95.0.4638.69\\chromedriver.exe] found in cache\n"
     ]
    },
    {
     "name": "stdout",
     "output_type": "stream",
     "text": [
      "last heghtni koriw un  7017\n",
      "last heightni koriw un  6937\n"
     ]
    }
   ],
   "source": [
    "from selenium import webdriver\n",
    "from selenium.webdriver.common.keys import Keys\n",
    "from webdriver_manager.chrome import ChromeDriverManager\n",
    "from urllib.request import urlretrieve\n",
    "from selenium.common.exceptions import NoSuchElementException\n",
    "import pandas as pd\n",
    "import os\n",
    "import time\n",
    "\n",
    "folder_path = 'down_data/'\n",
    "search_key = \"건강차\"\n",
    "\n",
    "driver = webdriver.Chrome(ChromeDriverManager().install())\n",
    "\n",
    "# driver = webdriver.Chrome()\n",
    "time.sleep(1)\n",
    "\n",
    "driver.get(\"https://www.facebook.com/ads/library/?active_status=all&ad_type=political_and_issue_ads&country=KR&media_type=all\")\n",
    "time.sleep(2)\n",
    "\n",
    "elem = driver.find_element_by_xpath(\"//*[text()=\\\"Ad category\\\"]\")\n",
    "elem.click()\n",
    "time.sleep(5)\n",
    "\n",
    "elem2 = driver.find_element_by_xpath(\"//*[text()=\\\"All ads\\\"]\")\n",
    "elem2.click()\n",
    "time.sleep(3)\n",
    "\n",
    "elem3 = driver.find_element_by_xpath(\"//*[@id=\\\"content\\\"]/div/div/div/div[2]/div/div[2]/div/div/div/div[1]/div[2]/div/div[2]/div[3]/div/div/div[1]/div/input\")\n",
    "elem3.click()\n",
    "elem3.send_keys(search_key)\n",
    "time.sleep(7)\n",
    "elem3.send_keys(Keys.RETURN)\n",
    "time.sleep(3)\n",
    "\n",
    "last_height = driver.execute_script(\"return document.body.scrollHeight\")\n",
    "print(\"last heghtni koriw un \", last_height)\n",
    "\n",
    "while True:\n",
    "    # 끝까지 스크롤 다운\n",
    "    driver.execute_script(\"window.scrollTo(0, document.body.scrollHeight);\")\n",
    "\n",
    "    time.sleep(6)\n",
    "\n",
    "    # 스크롤 다운 후 스크롤 높이 다시 가져옴\n",
    "    new_height = driver.execute_script(\"return document.body.scrollHeight\")\n",
    "    if new_height == last_height:\n",
    "        time.sleep(10)\n",
    "        break\n",
    "    last_height = new_height\n",
    "    print(\"last heightni koriw un \", last_height)\n"
   ]
  },
  {
   "cell_type": "code",
   "execution_count": 27,
   "metadata": {},
   "outputs": [
    {
     "name": "stdout",
     "output_type": "stream",
     "text": [
      "ad infoni1ni koriw un  문서핑샤워락/문서핑목풍기\n",
      "ad_textni koriw un  Active\n",
      "ad infoni1ni koriw un  자라난약초\n",
      "ad_textni koriw un  Active\n",
      "ad infoni1ni koriw un  자라난약초\n",
      "ad_textni koriw un  Active\n",
      "ad infoni1ni koriw un  유티크\n",
      "ad_textni koriw un  Active\n",
      "ad infoni1ni koriw un  유티크\n",
      "ad_textni koriw un  Active\n",
      "ad infoni1ni koriw un  유유네이처\n",
      "ad_textni koriw un  Active\n",
      "ad infoni1ni koriw un  지리산하동산초 사회적협동조합\n",
      "ad_textni koriw un  Active\n",
      "ad infoni1ni koriw un  방앗간, 청년\n",
      "ad_textni koriw un  Active\n",
      "ad infoni1ni koriw un  우리꽃연구소\n",
      "ad_textni koriw un  Active\n",
      "ad infoni1ni koriw un  아이보리 - 아기보리차, 쌀과자, 이유식가루\n",
      "ad_textni koriw un  Active\n",
      "ad infoni1ni koriw un  방앗간, 청년\n",
      "ad_textni koriw un  Active\n",
      "ad infoni1ni koriw un  더스노우퀸즈티\n",
      "ad_textni koriw un  Active\n",
      "ad infoni1ni koriw un  호랑이보감\n",
      "ad_textni koriw un  Active\n",
      "ad infoni1ni koriw un  아이보리 - 아기보리차, 쌀과자, 이유식가루\n",
      "ad_textni koriw un  Active\n",
      "ad infoni1ni koriw un  호랑이보감\n",
      "ad_textni koriw un  Active\n",
      "ad infoni1ni koriw un  호랑이보감\n",
      "ad_textni koriw un  Active\n",
      "ad infoni1ni koriw un  호랑이보감\n",
      "ad_textni koriw un  Active\n",
      "ad infoni1ni koriw un  호랑이보감\n",
      "ad_textni koriw un  Active\n",
      "ad infoni1ni koriw un  호랑이보감\n",
      "ad_textni koriw un  Active\n",
      "ad infoni1ni koriw un  호랑이보감\n",
      "ad_textni koriw un  Active\n",
      "ad infoni1ni koriw un  호랑이보감\n",
      "ad_textni koriw un  Active\n",
      "ad infoni1ni koriw un  차예마을\n",
      "ad_textni koriw un  Active\n"
     ]
    }
   ],
   "source": [
    "fb_ad = driver.find_elements_by_xpath('//*[contains(@class, \\'_99s5\\')]')\n",
    "# print(\"fb adni koriw un \", len(fb_ad)) #1487\n",
    "from datetime import datetime\n",
    "today_data = datetime.now().strftime('%Y-%m-%d-%H')\n",
    "\n",
    "DATE = []  # 광고 게시일자\n",
    "ID = []  # 광고 아이디\n",
    "CONTENT = []  # 광고 글(내용)\n",
    "HREF = []  # 광고 랜딩페이지\n",
    "img_src = []  # 이미지 소스\n",
    "video_src = []  # 동영상 소스\n",
    "\n",
    "name = \"gretgerwtges\"\n",
    "\n",
    "for i in range(len(fb_ad)):\n",
    "    \n",
    "####################################################\n",
    "#        TITLENI                                   #\n",
    "####################################################\n",
    "    try:\n",
    "        ad_info1 = fb_ad[i].find_elements_by_css_selector('.qku1pbnj.j8otv06s.cu1gti5y.a1itoznt.te7ihjl9.svz86pwt.a53abz89')\n",
    "#         ad_info1 = fb_ad[i].find_elements_by_css_selector('.qku1pbnj.jdeypxg0.gr1kmz5o.and5a8ls.te7ihjl9.svz86pwt.a53abz89')\n",
    "        print(\"ad infoni1ni koriw un \", ad_info1[0].text)\n",
    "        DATE.append(ad_info1[0].text)  \n",
    "        \n",
    "    except: \n",
    "        DATE.append(\"\") \n",
    "####################################################     \n",
    "     \n",
    "    try:\n",
    "        ad_info = fb_ad[i].find_elements_by_css_selector('._4ik4._4ik5')\n",
    "        print(\"ad infoni ozini koriw\", ad_info.text)\n",
    "        CONTENT.append(ad_info[1].text) \n",
    "\n",
    "    except: \n",
    "        CONTENT.append(\"\") \n",
    "########################################################################### \n",
    "#                       IDNI KORIW KODESI                             #\n",
    "############################################################################\n",
    "    #     print(\"ad infoni koriw un \", ad_info[1].text)\n",
    "    try:\n",
    "        ad_text = fb_ad[i].find_element_by_css_selector('.qku1pbnj.jdeypxg0.gr1kmz5o.and5a8ls.te7ihjl9.svz86pwt.a53abz89')\n",
    "        print(\"ad_textni koriw un \", ad_text.text)\n",
    "        ID.append(ad_text.text)  # 광고 글\n",
    "        ad_id = ad_text.text\n",
    "        ad_id_number = int(ad_id.split(' ')[1])\n",
    "\n",
    "    except:\n",
    "        ad_id_number = \"No ID\"\n",
    "        ID.append(\"\") \n",
    "        \n",
    "####################################################   \n",
    "\n",
    "    try:\n",
    "        ad_href = fb_ad[i].find_element_by_css_selector('.d5rc5kzv.chuaj5k6.qku1pbnj.j8otv06s.jrvjs1jy.a1itoznt.fvlrrmdj.svz86pwt.aa8h9o0m.jrkk970q').get_attribute('href')\n",
    "#         ad_href = fb_ad[0].find_element_by_tag_name('a').get_attribute('href')  # 랜딩페이지 주소 찾기\n",
    "#         print(\"adhrefni koriw un \", ad_href)\n",
    "        HREF.append(ad_href)\n",
    "\n",
    "    except:\n",
    "        ad_href = fb_ad[i].find_element_by_css_selector('.d5rc5kzv.iz6v9oso.qku1pbnj.j8otv06s.jrvjs1jy.a1itoznt.fvlrrmdj.svz86pwt.aa8h9o0m').get_attribute('href')\n",
    "#         print(\"adhref videoni koriw un\", ad_href)\n",
    "        HREF.append(ad_href)\n",
    "####################################################\n",
    "\n",
    "\n",
    "    try:\n",
    "        ad_img = fb_ad[i].find_element_by_css_selector('._7jys.img').get_attribute('src')  # 이미지 소스 찾기\n",
    "        img_src.append(ad_img)\n",
    "#         print(\"ad_imgni nameni koriw un \", ad_img)\n",
    "        \n",
    "    except:\n",
    "        pass\n",
    "\n",
    "    try:\n",
    "        ad_img = fb_ad[i].find_element_by_tag_name('video').get_attribute('src')  # 동영상 소스 찾기\n",
    "#         print(\"ad image videoni koriw uchun\", ad_img)\n",
    "        video_src.append(ad_img)\n",
    "    except:\n",
    "        pass\n",
    "    image_name = (str(ad_id_number)+today_data)\n",
    "#     print(\"image nameni koriw un \", image_name)\n",
    "#########################################################################     Datanisa\n",
    "        \n",
    "\n",
    "\n",
    "try:\n",
    "    data = {'ID': ID, 'TITLE': DATE, 'CONTENT': CONTENT, 'HREF': HREF}\n",
    "except:\n",
    "    pass\n",
    "    \n",
    "# data = pd.DataFrame(data)\n",
    "\n",
    "try:\n",
    "    data.to_csv(folder_path + '{}.csv'.format(name), index=False, encoding=\"utf-8-sig\")\n",
    "except:\n",
    "    pass \n",
    "\n",
    "################################################################################\n",
    "        \n",
    "for index, link in enumerate(img_src):\n",
    "#     print(\"indexni koriw un \", index)\n",
    "\n",
    "    try:\n",
    "        urlretrieve(link, folder_path + '{}_{}.jpg'.format(name, index + 1))\n",
    "    except:\n",
    "        pass\n",
    "        \n",
    "        \n",
    "for index, link in enumerate(video_src):\n",
    "    try:\n",
    "        urlretrieve(link, folder_path + '{}_{}.mp4'.format(name, index + 1))\n",
    "    except:\n",
    "        pass\n",
    "\n",
    "driver.quit()\n",
    "\n",
    "################################################################################\n",
    "# print(\"dateni koriw un \",  DATE)\n",
    "# print(\"hrefni koriw un\", HREF)\n",
    "# print(\"contentni koriw un\", CONTENT)\n",
    "# print(\"IDni koriw un\", ID)\n",
    "\n",
    "# try:\n",
    "#     data = {'ID': ID, 'TITLE': DATE, 'CONTENT': CONTENT, 'HREF': HREF}\n",
    "# except:\n",
    "#     pass\n",
    "    \n",
    "# data = pd.DataFrame(data)\n",
    "\n",
    "# try:\n",
    "#     data.to_csv(folder_path + '{}.csv'.format(name), index=False, encoding=\"utf-8-sig\")\n",
    "# except:\n",
    "#     pass   \n",
    "    \n",
    "# # print(\"hrefni nmaligini koriw un \", HREF)\n",
    "\n"
   ]
  },
  {
   "cell_type": "code",
   "execution_count": 29,
   "metadata": {},
   "outputs": [
    {
     "name": "stdout",
     "output_type": "stream",
     "text": [
      "contentni koriw un  ['Active', '', 'Active', '', 'Active', '', 'Active', '', 'Active', '', 'Active', '', 'Active', '', 'Active', '', 'Active', '', 'Active', '', 'Active', '', 'Active', '', 'Active', '', 'Active', '', 'Active', '', 'Active', '', 'Active', '', 'Active', '', 'Active', '', 'Active', '', 'Active', '', 'Active', '']\n"
     ]
    }
   ],
   "source": [
    "print(\"contentni koriw un \", ID)\n",
    "# DATE = []  # 광고 게시일자\n",
    "# ID = []  # 광고 아이디\n",
    "# CONTENT = []  # 광고 글(내용)\n",
    "# HREF = []  # 광고 랜딩페이지\n",
    "# img_src = []  # 이미지 소스\n",
    "# video_src = []  # 동영상 소스"
   ]
  },
  {
   "cell_type": "code",
   "execution_count": 8,
   "metadata": {},
   "outputs": [],
   "source": [
    "fb_ad = driver.find_elements_by_xpath('//*[contains(@class, \\'_99s5\\')]')\n",
    "# print(\"fb adni koriw un \", len(fb_ad)) #1487\n",
    "from datetime import datetime\n",
    "data2 = datetime.now().strftime('%Y-%m-%d-%H')\n",
    "\n",
    "\n",
    "DATE = []  # 광고 게시일자\n",
    "ID = []  # 광고 아이디\n",
    "CONTENT = []  # 광고 글(내용)\n",
    "HREF = []  # 광고 랜딩페이지\n",
    "img_src = []  # 이미지 소스\n",
    "video_src = []  # 동영상 소스\n",
    "\n",
    "name = \"gretgerwtges\"\n",
    "\n",
    "for i in range(len(fb_ad)):\n",
    "    \n",
    "####################################################\n",
    "#                                                  #\n",
    "####################################################\n",
    "    try:\n",
    "        ad_text = fb_ad[i].find_element_by_css_selector('.rxo4gu2c.fij28k4b')\n",
    "#         print(\"ad infoni1ni koriw un \", ad_info1[0].text)\n",
    "        data = ad_text.text\n",
    "        data = data.split(' ')[1]\n",
    "        print(\"datani koriw un \", data+\"/\"+data2)\n",
    "    \n",
    "#         DATE.append(ad_info1[0].text)  \n",
    "        \n",
    "    except: \n",
    "        data = ''\n",
    "#         DATE.append(\"\") "
   ]
  },
  {
   "cell_type": "code",
   "execution_count": 8,
   "metadata": {},
   "outputs": [
    {
     "data": {
      "text/plain": [
       "273498237492"
      ]
     },
     "execution_count": 8,
     "metadata": {},
     "output_type": "execute_result"
    }
   ],
   "source": [
    "int(\"ID: 273498237492\".split(' ')[1])"
   ]
  },
  {
   "cell_type": "code",
   "execution_count": 11,
   "metadata": {},
   "outputs": [
    {
     "name": "stdout",
     "output_type": "stream",
     "text": [
      "차예마을\n"
     ]
    }
   ],
   "source": [
    "print(data)\n",
    "\n",
    "/html/body/div[1]/div[2]/div[1]/div/div/div/div[3]/div[1]/div/div/div[3]/div[2]/div[1]/div[1]/div/div[1]/div/div[1]/div[1]/div\n",
    "\n",
    "/html/body/div[1]/div[2]/div[1]/div/div/div/div[3]/div[1]/div/div/div[3]/div[2]/div[1]/div[1]/div/div[1]/div/div[1]/div[4]/div/div/span"
   ]
  },
  {
   "cell_type": "code",
   "execution_count": 17,
   "metadata": {},
   "outputs": [
    {
     "name": "stdout",
     "output_type": "stream",
     "text": [
      "Current Time = 17:44:44\n"
     ]
    }
   ],
   "source": [
    "from datetime import datetime\n",
    "\n",
    "now = datetime.now()\n",
    "\n",
    "current_time = now.strftime(\"%H:%M:%S\")\n",
    "print(\"Current Time =\", current_time)"
   ]
  },
  {
   "cell_type": "code",
   "execution_count": 25,
   "metadata": {},
   "outputs": [],
   "source": [
    "from datetime import datetime\n",
    "data = datetime.now().strftime('%Y-%m-%d-%H')"
   ]
  }
 ],
 "metadata": {
  "kernelspec": {
   "display_name": "Python 3",
   "language": "python",
   "name": "python3"
  },
  "language_info": {
   "codemirror_mode": {
    "name": "ipython",
    "version": 3
   },
   "file_extension": ".py",
   "mimetype": "text/x-python",
   "name": "python",
   "nbconvert_exporter": "python",
   "pygments_lexer": "ipython3",
   "version": "3.8.11"
  }
 },
 "nbformat": 4,
 "nbformat_minor": 4
}
